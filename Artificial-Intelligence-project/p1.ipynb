{
 "cells": [
  {
   "cell_type": "markdown",
   "metadata": {},
   "source": [
    "# Problem 1\n",
    "\n",
    "- You can use the iris dataset that is built in sklearn. Read more about this dataset [here](https://scikit-learn.org/stable/auto_examples/datasets/plot_iris_dataset.html).\n"
   ]
  },
  {
   "cell_type": "code",
   "execution_count": 6,
   "metadata": {
    "tags": []
   },
   "outputs": [],
   "source": [
    "from sklearn.datasets import load_iris\n",
    "from sklearn.linear_model import Perceptron\n",
    "from sklearn.metrics import accuracy_score\n",
    "import numpy as np\n",
    "from sklearn.model_selection import train_test_split"
   ]
  },
  {
   "cell_type": "code",
   "execution_count": 7,
   "metadata": {
    "tags": []
   },
   "outputs": [],
   "source": [
    "train_accuracy, test_accuracy = None, None\n",
    "\n",
    "# ===== Load the Iris dataset ===== #\n",
    "iris = load_iris()\n",
    "X, y = iris.data, iris.target\n",
    "# ===== End of Load the Iris dataset ===== #\n",
    "\n",
    "# ===== Merge classes for binary classification ===== #\n",
    "y_binary = np.where(y > 0, 1, 0)\n",
    "# ===== End of Merge classes for binary classification ===== #\n",
    "\n",
    "# ===== Splitting data into training and testing sets ===== #\n",
    "X_train, X_test, y_train, y_test = train_test_split(X, y_binary, test_size=0.3, random_state=42)\n",
    "# ===== End of Splitting data into training and testing sets ===== #\n",
    "\n",
    "# ===== Training the Perceptron model ===== #\n",
    "perceptron = Perceptron()\n",
    "perceptron.fit(X_train, y_train)\n",
    "# ===== End of Training the Perceptron model ===== #\n",
    "\n",
    "# ===== Predicting and evaluating the model ===== #\n",
    "y_pred_train = perceptron.predict(X_train)\n",
    "y_pred_test = perceptron.predict(X_test)\n",
    "\n",
    "train_accuracy = accuracy_score(y_train, y_pred_train)\n",
    "test_accuracy = accuracy_score(y_test, y_pred_test)\n",
    "# ===== End of Predicting and evaluating the model ===== #\n"
   ]
  },
  {
   "cell_type": "code",
   "execution_count": 8,
   "metadata": {
    "tags": []
   },
   "outputs": [
    {
     "name": "stdout",
     "output_type": "stream",
     "text": [
      "Training Accuracy: 1.0\n",
      "Testing Accuracy: 1.0\n"
     ]
    }
   ],
   "source": [
    "print(f\"Training Accuracy: {train_accuracy}\")\n",
    "print(f\"Testing Accuracy: {test_accuracy}\")"
   ]
  },
  {
   "cell_type": "code",
   "execution_count": null,
   "metadata": {},
   "outputs": [],
   "source": []
  }
 ],
 "metadata": {
  "kernelspec": {
   "display_name": "Python 3 (ipykernel)",
   "language": "python",
   "name": "python3"
  },
  "language_info": {
   "codemirror_mode": {
    "name": "ipython",
    "version": 3
   },
   "file_extension": ".py",
   "mimetype": "text/x-python",
   "name": "python",
   "nbconvert_exporter": "python",
   "pygments_lexer": "ipython3",
   "version": "3.11.4"
  }
 },
 "nbformat": 4,
 "nbformat_minor": 4
}
